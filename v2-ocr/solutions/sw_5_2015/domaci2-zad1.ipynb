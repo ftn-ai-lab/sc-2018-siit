{
 "cells": [
  {
   "cell_type": "code",
   "execution_count": 1,
   "metadata": {},
   "outputs": [
    {
     "name": "stderr",
     "output_type": "stream",
     "text": [
      "/home/student/anaconda3/lib/python3.6/site-packages/h5py/__init__.py:36: FutureWarning: Conversion of the second argument of issubdtype from `float` to `np.floating` is deprecated. In future, it will be treated as `np.float64 == np.dtype(float).type`.\n",
      "  from ._conv import register_converters as _register_converters\n",
      "Using TensorFlow backend.\n"
     ]
    }
   ],
   "source": [
    "#Bojana Ivanovic sw5/2015\n",
    "\n",
    "import numpy as np\n",
    "import cv2 # OpenCV\n",
    "import matplotlib\n",
    "import matplotlib.pyplot as plt\n",
    "import collections\n",
    "\n",
    "# iscrtavanje slika u notebook-u\n",
    "%matplotlib inline\n",
    "# prikaz vecih slika\n",
    "matplotlib.rcParams['figure.figsize'] = 16,12\n",
    "\n",
    "# keras\n",
    "from keras.models import Sequential\n",
    "from keras.layers.core import Dense, Activation\n",
    "from keras.optimizers import SGD\n",
    "\n",
    "def load_image(path):\n",
    "    return cv2.cvtColor(cv2.imread(path), cv2.COLOR_BGR2RGB)\n",
    "\n",
    "def image_gray(image):\n",
    "    return cv2.cvtColor(image, cv2.COLOR_RGB2GRAY)\n",
    "\n",
    "def image_bin(image_gs):\n",
    "    height, width = image_gs.shape[0:2]\n",
    "    image_binary = np.ndarray((height, width), dtype=np.uint8)\n",
    "    ret, image_bin = cv2.threshold(image_gs, 127, 255, cv2.THRESH_BINARY)\n",
    "    return image_bin\n",
    "\n",
    "def invert(image):\n",
    "    return 255-image\n",
    "\n",
    "def display_image(image, color=False):\n",
    "    if color:\n",
    "        plt.imshow(image)\n",
    "    else:\n",
    "        plt.imshow(image, 'gray')\n",
    "\n",
    "def dilate(image):\n",
    "    kernel = np.ones((3, 3)) # strukturni element 3x3 blok\n",
    "    return cv2.dilate(image, kernel, iterations=1)\n",
    "\n",
    "def erode(image):\n",
    "    kernel = np.ones((3, 3)) # strukturni element 3x3 blok\n",
    "    return cv2.erode(image, kernel, iterations=1)\n",
    "\n",
    "def resize_region(region):\n",
    "    return cv2.resize(region, (28, 28), interpolation=cv2.INTER_NEAREST)\n",
    "\n",
    "def select_roi(image_orig, image_bin):\n",
    "    img, contours, hierarchy = cv2.findContours(image_bin.copy(), cv2.RETR_LIST, cv2.CHAIN_APPROX_SIMPLE)\n",
    "    sorted_regions = [] # lista sortiranih regiona po X osi\n",
    "    regions_array = []\n",
    "    for contour in contours:\n",
    "        x, y, w, h = cv2.boundingRect(contour) # koordinate i velicina granicnog pravougaonika\n",
    "        area = cv2.contourArea(contour)\n",
    "        if area > 100 and h < 100 and h > 5 and w > 15:\n",
    "            # kopirati [y:y+h+1, x:x+w+1] sa binarne slike i smestiti u novu sliku\n",
    "            # oznaciti region pravougaonikom na originalnoj slici sa rectangle funkcijom\n",
    "            region = image_bin[y:y+h+1, x:x+w+1]\n",
    "            regions_array.append([resize_region(region), (x, y, w, h)])\n",
    "            cv2.rectangle(image_orig, (x, y), (x + w, y + h), (0, 255, 0), 2)\n",
    "    \n",
    "    regions_array = sorted(regions_array, key=lambda x: x[1][0])\n",
    "    sorted_regions = [region[0] for region in regions_array]\n",
    "    return image_orig, sorted_regions\n",
    "\n",
    "def scale_to_range(image):\n",
    "    return image/255\n",
    "\n",
    "def matrix_to_vector(image):\n",
    "    return image.flatten()\n",
    "\n",
    "def prepare_for_ann(regions):\n",
    "    ready_for_ann = []\n",
    "    for region in regions:\n",
    "        scale = scale_to_range(region)\n",
    "        ready_for_ann.append(matrix_to_vector(scale))\n",
    "    return ready_for_ann\n",
    "\n",
    "def convert_output(alphabet):\n",
    "    nn_outputs = []\n",
    "    for index in range(len(alphabet)):\n",
    "        output = np.zeros(len(alphabet))\n",
    "        output[index] = 1\n",
    "        nn_outputs.append(output)\n",
    "    return np.array(nn_outputs)\n",
    "\n",
    "def create_ann(output_size):\n",
    "    ann = Sequential()\n",
    "    ann.add(Dense(128, input_dim=784, activation='sigmoid'))\n",
    "    ann.add(Dense(output_size, activation='sigmoid'))\n",
    "    return ann\n",
    "\n",
    "def train_ann(ann, X_train, y_train, epochs):\n",
    "    X_train = np.array(X_train, np.float32) # dati ulaz\n",
    "    y_train = np.array(y_train, np.float32) # zeljeni izlazi na date ulaze\n",
    "    \n",
    "    print(\"\\nTraining started...\")\n",
    "    sgd = SGD(lr=0.01, momentum=0.9)\n",
    "    ann.compile(loss='mean_squared_error', optimizer=sgd)\n",
    "    ann.fit(X_train, y_train, epochs=epochs, batch_size=1, verbose=0, shuffle=False)\n",
    "    print(\"\\nTraining completed...\")\n",
    "    return ann\n",
    "\n",
    "def winner(output):\n",
    "    return max(enumerate(output), key=lambda x: x[1])[0]\n",
    "\n",
    "def display_result(outputs, alphabet):\n",
    "    result = []\n",
    "    for output in outputs:\n",
    "        result.append(alphabet[winner(output)])\n",
    "    return result"
   ]
  },
  {
   "cell_type": "code",
   "execution_count": 2,
   "metadata": {},
   "outputs": [
    {
     "data": {
      "image/png": "[encoded data removed]",
      "text/plain": [
       "<Figure size 432x288 with 1 Axes>"
      ]
     },
     "metadata": {},
     "output_type": "display_data"
    }
   ],
   "source": [
    "image_test = load_image('images/kalkulator_alfabet.png')\n",
    "img_test = invert(image_bin(image_gray(image_test)))\n",
    "img_test_bin = erode(dilate(img_test))\n",
    "selected_reg_test, numbers_test = select_roi(image_test.copy(), img_test)\n",
    "display_image(selected_reg_test)"
   ]
  },
  {
   "cell_type": "code",
   "execution_count": 3,
   "metadata": {},
   "outputs": [
    {
     "name": "stdout",
     "output_type": "stream",
     "text": [
      "\n",
      "Training started...\n",
      "\n",
      "Training completed...\n"
     ]
    }
   ],
   "source": [
    "alphabet = [0, 1, 2, 3, 4, 5, 6, 7, 8, 9, '+', '-', '*', '/']\n",
    "inputs = prepare_for_ann(numbers_test)\n",
    "outputs = convert_output(alphabet)\n",
    "ann = create_ann(len(alphabet))\n",
    "train_ann_var = train_ann(ann, inputs, outputs,2000)"
   ]
  },
  {
   "cell_type": "code",
   "execution_count": 4,
   "metadata": {},
   "outputs": [],
   "source": [
    "def string_result(outputs, alphabet):\n",
    "    result = \"\"\n",
    "    for output in outputs:\n",
    "        result = result + str(alphabet[winner(output)])\n",
    "    return result\n",
    "\n",
    "\n",
    "def calculate_str(string):\n",
    "    return eval(string)"
   ]
  },
  {
   "cell_type": "code",
   "execution_count": 5,
   "metadata": {
    "scrolled": true
   },
   "outputs": [
    {
     "name": "stdout",
     "output_type": "stream",
     "text": [
      "Resenje zadatka je:  5\n"
     ]
    },
    {
     "data": {
      "image/png": "[encoded data removed]",
      "text/plain": [
       "<Figure size 432x288 with 1 Axes>"
      ]
     },
     "metadata": {},
     "output_type": "display_data"
    }
   ],
   "source": [
    "t1 = load_image('images/sbiranje.png')\n",
    "imgt1 = invert(image_bin(image_gray(t1)))\n",
    "img_bin_t1 = erode(dilate(imgt1))\n",
    "selected_reg_t1, numbers_test1 = select_roi(t1.copy(), imgt1)\n",
    "display_image(selected_reg_t1)\n",
    "\n",
    "inputs1 = prepare_for_ann(numbers_test1)\n",
    "result = ann.predict(np.array(inputs1, np.float32))\n",
    "\n",
    "strResult = string_result(result, alphabet)\n",
    "print('Resenje zadatka je: ', calculate_str(strResult))"
   ]
  },
  {
   "cell_type": "code",
   "execution_count": 6,
   "metadata": {},
   "outputs": [
    {
     "name": "stdout",
     "output_type": "stream",
     "text": [
      "Resenje zadatka je:  5\n"
     ]
    },
    {
     "data": {
      "image/png": "[encoded data removed]",
      "text/plain": [
       "<Figure size 432x288 with 1 Axes>"
      ]
     },
     "metadata": {},
     "output_type": "display_data"
    }
   ],
   "source": [
    "t2 = load_image('images/oduzimanje.png')\n",
    "imgt2 = invert(image_bin(image_gray(t2)))\n",
    "img_bin_t2 = erode(dilate(imgt2))\n",
    "selected_reg_t2, numbers_test2 = select_roi(t2.copy(), imgt2)\n",
    "display_image(selected_reg_t2)\n",
    "\n",
    "inputs2 = prepare_for_ann(numbers_test2)\n",
    "result = ann.predict(np.array(inputs2, np.float32))\n",
    "\n",
    "strResult = string_result(result, alphabet)\n",
    "print('Resenje zadatka je: ', calculate_str(strResult))"
   ]
  },
  {
   "cell_type": "code",
   "execution_count": 7,
   "metadata": {},
   "outputs": [
    {
     "name": "stdout",
     "output_type": "stream",
     "text": [
      "Resenje zadatka je:  8.0\n"
     ]
    },
    {
     "data": {
      "image/png": "[encoded data removed]",
      "text/plain": [
       "<Figure size 432x288 with 1 Axes>"
      ]
     },
     "metadata": {},
     "output_type": "display_data"
    }
   ],
   "source": [
    "t3 = load_image('images/slozen_izraz.png')\n",
    "imgt3 = invert(image_bin(image_gray(t3)))\n",
    "img_bin_t3 = erode(dilate(imgt3))\n",
    "selected_reg_t3, numbers_test3 = select_roi(t3.copy(), imgt3)\n",
    "display_image(selected_reg_t3)\n",
    "\n",
    "inputs3 = prepare_for_ann(numbers_test3)\n",
    "result = ann.predict(np.array(inputs3, np.float32))\n",
    "\n",
    "strResult = string_result(result, alphabet)\n",
    "print('Resenje zadatka je: ', calculate_str(strResult))"
   ]
  },
  {
   "cell_type": "code",
   "execution_count": null,
   "metadata": {},
   "outputs": [],
   "source": []
  }
 ],
 "metadata": {
  "kernelspec": {
   "display_name": "Python 3",
   "language": "python",
   "name": "python3"
  },
  "language_info": {
   "codemirror_mode": {
    "name": "ipython",
    "version": 3
   },
   "file_extension": ".py",
   "mimetype": "text/x-python",
   "name": "python",
   "nbconvert_exporter": "python",
   "pygments_lexer": "ipython3",
   "version": "3.6.5"
  }
 },
 "nbformat": 4,
 "nbformat_minor": 2
}
